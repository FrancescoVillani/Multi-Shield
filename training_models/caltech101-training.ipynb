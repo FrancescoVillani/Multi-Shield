{
 "cells": [
  {
   "cell_type": "code",
   "execution_count": 1,
   "id": "44ab1176",
   "metadata": {
    "execution": {
     "iopub.execute_input": "2023-08-05T15:10:03.631126Z",
     "iopub.status.busy": "2023-08-05T15:10:03.630175Z",
     "iopub.status.idle": "2023-08-05T15:10:07.299507Z",
     "shell.execute_reply": "2023-08-05T15:10:07.298495Z"
    },
    "papermill": {
     "duration": 3.678534,
     "end_time": "2023-08-05T15:10:07.302040",
     "exception": false,
     "start_time": "2023-08-05T15:10:03.623506",
     "status": "completed"
    },
    "tags": []
   },
   "outputs": [],
   "source": [
    "import os\n",
    "os.chdir(\"../\")\n",
    "\n",
    "import time\n",
    "\n",
    "import random\n",
    "\n",
    "import torch\n",
    "from torchvision import transforms\n",
    "import torchvision.models as models\n",
    "\n",
    "from tqdm import tqdm\n",
    "\n",
    "import matplotlib.pyplot as plt\n",
    "\n",
    "from ingredients.dataset import get_dataset_loaders\n",
    "from ingredients.utilities import set_seed"
   ]
  },
  {
   "cell_type": "code",
   "execution_count": 2,
   "id": "efd15b0a",
   "metadata": {
    "execution": {
     "iopub.execute_input": "2023-08-05T15:10:11.418081Z",
     "iopub.status.busy": "2023-08-05T15:10:11.417064Z",
     "iopub.status.idle": "2023-08-05T15:10:11.426832Z",
     "shell.execute_reply": "2023-08-05T15:10:11.425960Z"
    },
    "papermill": {
     "duration": 0.018692,
     "end_time": "2023-08-05T15:10:11.428866",
     "exception": false,
     "start_time": "2023-08-05T15:10:11.410174",
     "status": "completed"
    },
    "tags": []
   },
   "outputs": [],
   "source": [
    "# ----------\n",
    "\n",
    "config = {\n",
    "    \"seed\": 1123,\n",
    "    \"dataset\": \"caltech101\",\n",
    "    \"n_samples\": 0,\n",
    "    \"batch_size\": 64,\n",
    "    \"num_epochs\": 5,\n",
    "    \"preprocess_forward\": True,\n",
    "    \"device\": \"cuda\"\n",
    "}\n",
    "\n",
    "MODEL_FILENAME = f\"resnet18.model_seed={config['seed']}.dataset={config['dataset']}.dataset_seed=1233.pth\"\n",
    "\n",
    "SAVE_MODEL_PATH = \"./pretrained_models\"\n",
    "os.makedirs(SAVE_MODEL_PATH, exist_ok=True)\n",
    "\n",
    "# ----------"
   ]
  },
  {
   "cell_type": "code",
   "execution_count": 3,
   "id": "fbeb0a2e",
   "metadata": {},
   "outputs": [],
   "source": [
    "set_seed(config[\"seed\"])\n",
    "\n",
    "device = torch.device(config[\"device\"])"
   ]
  },
  {
   "cell_type": "code",
   "execution_count": null,
   "id": "0d08addf",
   "metadata": {
    "execution": {
     "iopub.execute_input": "2023-08-05T15:10:11.453952Z",
     "iopub.status.busy": "2023-08-05T15:10:11.453131Z",
     "iopub.status.idle": "2023-08-05T15:10:51.814064Z",
     "shell.execute_reply": "2023-08-05T15:10:51.812135Z"
    },
    "papermill": {
     "duration": 40.370003,
     "end_time": "2023-08-05T15:10:51.816239",
     "exception": false,
     "start_time": "2023-08-05T15:10:11.446236",
     "status": "completed"
    },
    "tags": []
   },
   "outputs": [],
   "source": [
    "dataloaders = get_dataset_loaders(\n",
    "    config[\"dataset\"], config[\"batch_size\"], config[\"n_samples\"], config[\"seed\"]\n",
    ")\n",
    "\n",
    "train_loader = dataloaders[\"train\"]\n",
    "test_loader = dataloaders[\"val\"]"
   ]
  },
  {
   "cell_type": "code",
   "execution_count": null,
   "id": "e57e6d8c",
   "metadata": {
    "execution": {
     "iopub.execute_input": "2023-08-05T15:10:54.047660Z",
     "iopub.status.busy": "2023-08-05T15:10:54.047368Z",
     "iopub.status.idle": "2023-08-05T15:10:54.989247Z",
     "shell.execute_reply": "2023-08-05T15:10:54.988144Z"
    },
    "papermill": {
     "duration": 0.954899,
     "end_time": "2023-08-05T15:10:54.993874",
     "exception": false,
     "start_time": "2023-08-05T15:10:54.038975",
     "status": "completed"
    },
    "tags": []
   },
   "outputs": [],
   "source": [
    "# Load the pre-trained ResNet-34 model\n",
    "resnet = models.resnet18(pretrained=True)\n",
    "\n",
    "# Modify the last layer to output n classes\n",
    "CLASS_NUM = 101\n",
    "\n",
    "num_classes = CLASS_NUM\n",
    "num_features = resnet.fc.in_features\n",
    "resnet.fc = torch.nn.Linear(num_features, num_classes)\n",
    "\n",
    "if config[\"preprocess_forward\"]:\n",
    "    torch_preprocess = transforms.Normalize(\n",
    "                (0.48145466, 0.4578275, 0.40821073), (0.26862954, 0.26130258, 0.27577711)\n",
    "            )\n",
    "\n",
    "    # MONEKY PATCH FOR PREPROCESSING\n",
    "    original_forward = resnet.forward\n",
    "\n",
    "    def preprocess_forward(x, *args, **kwargs):\n",
    "        x = torch_preprocess(x)\n",
    "        return original_forward(x, *args, **kwargs)\n",
    "\n",
    "    resnet.forward = preprocess_forward\n",
    "\n",
    "resnet.to(device)"
   ]
  },
  {
   "cell_type": "code",
   "execution_count": 6,
   "id": "e71a935a",
   "metadata": {
    "execution": {
     "iopub.execute_input": "2023-08-05T15:10:55.033377Z",
     "iopub.status.busy": "2023-08-05T15:10:55.033059Z",
     "iopub.status.idle": "2023-08-05T15:10:55.041307Z",
     "shell.execute_reply": "2023-08-05T15:10:55.040286Z"
    },
    "papermill": {
     "duration": 0.020567,
     "end_time": "2023-08-05T15:10:55.044537",
     "exception": false,
     "start_time": "2023-08-05T15:10:55.023970",
     "status": "completed"
    },
    "tags": []
   },
   "outputs": [],
   "source": [
    "# Define the loss function and optimizer\n",
    "criterion = torch.nn.CrossEntropyLoss()\n",
    "optimizer = torch.optim.SGD(resnet.parameters(), lr=0.001, momentum=0.9)"
   ]
  },
  {
   "cell_type": "code",
   "execution_count": 7,
   "id": "20ccf714",
   "metadata": {
    "execution": {
     "iopub.execute_input": "2023-08-05T15:10:55.062259Z",
     "iopub.status.busy": "2023-08-05T15:10:55.062001Z",
     "iopub.status.idle": "2023-08-05T15:10:55.068646Z",
     "shell.execute_reply": "2023-08-05T15:10:55.067733Z"
    },
    "papermill": {
     "duration": 0.017761,
     "end_time": "2023-08-05T15:10:55.070721",
     "exception": false,
     "start_time": "2023-08-05T15:10:55.052960",
     "status": "completed"
    },
    "tags": []
   },
   "outputs": [],
   "source": [
    "#validation function\n",
    "def validate(model, test_dataloader):\n",
    "    model.eval()\n",
    "    val_running_loss = 0.0\n",
    "    val_running_correct = 0\n",
    "    for int, data in enumerate(test_dataloader):\n",
    "        data, target = data[0].to(device), data[1].to(device)\n",
    "        output = model(data)\n",
    "        loss = criterion(output, target)\n",
    "        val_running_loss += loss.item()\n",
    "        _, preds = torch.max(output.data, 1)\n",
    "        val_running_correct += (preds == target).sum().item()\n",
    "    \n",
    "    val_loss = val_running_loss/len(test_dataloader.dataset)\n",
    "    val_accuracy = 100. * val_running_correct/len(test_dataloader.dataset)\n",
    "    \n",
    "    return val_loss, val_accuracy"
   ]
  },
  {
   "cell_type": "code",
   "execution_count": 8,
   "id": "530aea2c",
   "metadata": {
    "execution": {
     "iopub.execute_input": "2023-08-05T15:10:55.087886Z",
     "iopub.status.busy": "2023-08-05T15:10:55.087634Z",
     "iopub.status.idle": "2023-08-05T15:10:55.095257Z",
     "shell.execute_reply": "2023-08-05T15:10:55.094272Z"
    },
    "papermill": {
     "duration": 0.018785,
     "end_time": "2023-08-05T15:10:55.097565",
     "exception": false,
     "start_time": "2023-08-05T15:10:55.078780",
     "status": "completed"
    },
    "tags": []
   },
   "outputs": [],
   "source": [
    "# training function\n",
    "def train(model, train_dataloader):\n",
    "    model.train()\n",
    "    train_running_loss = 0.0\n",
    "    train_running_correct = 0##this is in train\n",
    "    #for data in tqdm(train_dataloader):\n",
    "    for data in tqdm(train_dataloader, desc=\"Training\", bar_format=\"{l_bar}{bar:30}{r_bar}{bar:-30b}\", leave=False, ncols=100, colour='green', position=0):\n",
    "        \n",
    "        #print(data)\n",
    "        img, labels = data[0].to(device) , data[1].to(device)\n",
    "        optimizer.zero_grad()#train\n",
    "        output = model(img)\n",
    "        loss = criterion(output, labels)\n",
    "        train_running_loss += loss.item()\n",
    "        _, preds = torch.max(output.data, 1)\n",
    "        train_running_correct += (preds == labels).sum().item()\n",
    "        loss.backward()\n",
    "        optimizer.step()\n",
    "    train_loss = train_running_loss/len(train_dataloader.dataset)\n",
    "    train_accuracy = 100. * train_running_correct/len(train_dataloader.dataset)\n",
    "\n",
    "    #print('Train Loss: %.4f'%train_loss)\n",
    "    \n",
    "    return train_loss, train_accuracy"
   ]
  },
  {
   "cell_type": "code",
   "execution_count": null,
   "id": "425ec17f",
   "metadata": {
    "execution": {
     "iopub.execute_input": "2023-08-05T15:10:55.114793Z",
     "iopub.status.busy": "2023-08-05T15:10:55.114548Z",
     "iopub.status.idle": "2023-08-05T15:13:48.056073Z",
     "shell.execute_reply": "2023-08-05T15:13:48.054706Z"
    },
    "papermill": {
     "duration": 172.952626,
     "end_time": "2023-08-05T15:13:48.058264",
     "exception": false,
     "start_time": "2023-08-05T15:10:55.105638",
     "status": "completed"
    },
    "tags": []
   },
   "outputs": [],
   "source": [
    "train_loss , train_accuracy = [], []\n",
    "val_loss , val_accuracy = [], []\n",
    "start = time.time()\n",
    "\n",
    "NB_EPOCH = config[\"num_epochs\"]\n",
    "\n",
    "\n",
    "for epoch in range(NB_EPOCH):\n",
    "    train_epoch_loss, train_epoch_accuracy = train(resnet, train_loader)\n",
    "    val_epoch_loss, val_epoch_accuracy = validate(resnet, test_loader)\n",
    "    print(\"Train Loss : %f/  Train Acc : %.2f/  Val Loss : %f/  Val Acc : %.2f\"%(train_epoch_loss,train_epoch_accuracy,val_epoch_loss,val_epoch_accuracy))\n",
    "    train_loss.append(train_epoch_loss)\n",
    "    train_accuracy.append(train_epoch_accuracy)\n",
    "    val_loss.append(val_epoch_loss)\n",
    "    val_accuracy.append(val_epoch_accuracy)\n",
    "\n",
    "    #print(\"Train Acc : %f\"%train_accuracy,\"Val Acc : %f\"%val_accuracy)\n",
    "    \n",
    "end = time.time()\n",
    "\n",
    "print(int((end-start)//60), 'minutes', int((end-start)%60), 'seconds')"
   ]
  },
  {
   "cell_type": "code",
   "execution_count": 10,
   "id": "44b51d9f",
   "metadata": {},
   "outputs": [],
   "source": [
    "# ----------\n",
    "# SAVE MODELS\n",
    "# ----------\n",
    "\n",
    "save_path = os.path.join(SAVE_MODEL_PATH, MODEL_FILENAME)\n",
    "\n",
    "torch.save(resnet.state_dict(), save_path)"
   ]
  },
  {
   "cell_type": "code",
   "execution_count": null,
   "id": "187099d8",
   "metadata": {
    "execution": {
     "iopub.execute_input": "2023-08-05T15:13:48.866986Z",
     "iopub.status.busy": "2023-08-05T15:13:48.865818Z",
     "iopub.status.idle": "2023-08-05T15:13:51.824341Z",
     "shell.execute_reply": "2023-08-05T15:13:51.823429Z"
    },
    "papermill": {
     "duration": 3.064705,
     "end_time": "2023-08-05T15:13:51.834653",
     "exception": false,
     "start_time": "2023-08-05T15:13:48.769948",
     "status": "completed"
    },
    "tags": []
   },
   "outputs": [],
   "source": [
    "# ----------\n",
    "# PLOT\n",
    "# ----------\n",
    "\n",
    "class_names = dataloaders[\"class_names\"]\n",
    "\n",
    "test_dataset = test_loader.dataset\n",
    "\n",
    "ROW = 4\n",
    "COL = 3\n",
    "\n",
    "fig, axs = plt.subplots(nrows = ROW , ncols = COL, figsize=(ROW*4, COL*4))\n",
    "\n",
    "for cnt in range(ROW*COL):\n",
    "    i = random.randrange(0,len(test_dataset))\n",
    "    img = test_dataset[i][0]\n",
    "    label = class_names[test_dataset[i][1]]\n",
    "    \n",
    "    #Get predicted label\n",
    "    with torch.no_grad():\n",
    "        #Use Model\n",
    "        img, _  = test_dataset[i]\n",
    "        img = img.to(device)\n",
    "        outputs = resnet(img.unsqueeze(0))\n",
    "        \n",
    "        #Get the predicted class labels for each images\n",
    "        _ , pred_num = torch.max(outputs.data , dim = 1)\n",
    "        \n",
    "        pred_label = class_names[pred_num]\n",
    "        \n",
    "    axs[(cnt) // COL, (cnt) % COL].imshow(img.cpu().permute(1, 2, 0))\n",
    "    axs[cnt // COL, cnt % COL].set_title(f\"True: {label}\\nPred: {pred_label}\")\n",
    "    \n",
    "plt.tight_layout()\n",
    "plt.show()"
   ]
  }
 ],
 "metadata": {
  "kernelspec": {
   "display_name": "multishield",
   "language": "python",
   "name": "python3"
  },
  "language_info": {
   "codemirror_mode": {
    "name": "ipython",
    "version": 3
   },
   "file_extension": ".py",
   "mimetype": "text/x-python",
   "name": "python",
   "nbconvert_exporter": "python",
   "pygments_lexer": "ipython3",
   "version": "3.11.5"
  },
  "papermill": {
   "default_parameters": {},
   "duration": 241.87957,
   "end_time": "2023-08-05T15:13:55.142952",
   "environment_variables": {},
   "exception": null,
   "input_path": "__notebook__.ipynb",
   "output_path": "__notebook__.ipynb",
   "parameters": {},
   "start_time": "2023-08-05T15:09:53.263382",
   "version": "2.4.0"
  }
 },
 "nbformat": 4,
 "nbformat_minor": 5
}
